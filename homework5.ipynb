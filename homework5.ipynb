{
 "cells": [
  {
   "cell_type": "code",
   "execution_count": 5,
   "id": "fb20c546-e2c2-4ac6-ac40-f389c9b7440d",
   "metadata": {},
   "outputs": [],
   "source": [
    "import numpy as np"
   ]
  },
  {
   "cell_type": "code",
   "execution_count": 15,
   "id": "2e016b1a-c4e5-4c91-b5a3-f6c22e2f2a88",
   "metadata": {},
   "outputs": [
    {
     "ename": "IndexError",
     "evalue": "boolean index did not match indexed array along dimension 0; dimension is 4 but corresponding boolean dimension is 12",
     "output_type": "error",
     "traceback": [
      "\u001b[0;31m---------------------------------------------------------------------------\u001b[0m",
      "\u001b[0;31mIndexError\u001b[0m                                Traceback (most recent call last)",
      "Cell \u001b[0;32mIn[15], line 11\u001b[0m\n\u001b[1;32m      8\u001b[0m         \u001b[38;5;28;01melse\u001b[39;00m:\n\u001b[1;32m      9\u001b[0m             filtered_array\u001b[38;5;241m.\u001b[39mappend(\u001b[38;5;28;01mFalse\u001b[39;00m)\n\u001b[0;32m---> 11\u001b[0m newarray \u001b[38;5;241m=\u001b[39m arr[filtered_array]\n\u001b[1;32m     12\u001b[0m newarray\n",
      "\u001b[0;31mIndexError\u001b[0m: boolean index did not match indexed array along dimension 0; dimension is 4 but corresponding boolean dimension is 12"
     ]
    }
   ],
   "source": [
    "#question 1\n",
    "arr = np.array([[1, 2, 3], [5, 7, 9], [2, 4, 6], [7, 7, 7]])\n",
    "filtered_array = []\n",
    "for element in arr:\n",
    "    for number in element:\n",
    "        if number%2 == 0:\n",
    "            filtered_array.append(True)\n",
    "        else:\n",
    "            filtered_array.append(False)\n",
    "\n",
    "newarray = arr[filtered_array]\n",
    "newarray"
   ]
  },
  {
   "cell_type": "code",
   "execution_count": 103,
   "id": "67f33cd7-386d-4364-898b-860364b4ee6d",
   "metadata": {},
   "outputs": [
    {
     "data": {
      "text/plain": [
       "array([[0, 0, 0, 0, 0, 0, 0, 0],\n",
       "       [0, 0, 0, 0, 0, 0, 0, 0],\n",
       "       [0, 0, 0, 0, 0, 0, 0, 0],\n",
       "       [0, 0, 0, 0, 0, 0, 0, 0],\n",
       "       [0, 0, 0, 0, 0, 0, 0, 0],\n",
       "       [0, 0, 0, 0, 0, 0, 0, 0],\n",
       "       [0, 0, 0, 0, 0, 0, 0, 0],\n",
       "       [0, 0, 0, 0, 0, 0, 0, 0]])"
      ]
     },
     "execution_count": 103,
     "metadata": {},
     "output_type": "execute_result"
    }
   ],
   "source": [
    "#question 2.1\n",
    "emptylist = []\n",
    "def zeros(array):\n",
    "    return np.zeros((8,8), dtype = int)\n",
    "zerolist = zeros(emptylist)\n",
    "zerolist"
   ]
  },
  {
   "cell_type": "code",
   "execution_count": 91,
   "id": "a1f4670b-cdaf-4313-80bf-99c6d55b2ef9",
   "metadata": {},
   "outputs": [
    {
     "data": {
      "text/plain": [
       "array([[1, 0, 1, 0, 1, 0, 1, 0],\n",
       "       [0, 0, 0, 0, 0, 0, 0, 0],\n",
       "       [1, 0, 1, 0, 1, 0, 1, 0],\n",
       "       [0, 0, 0, 0, 0, 0, 0, 0],\n",
       "       [1, 0, 1, 0, 1, 0, 1, 0],\n",
       "       [0, 0, 0, 0, 0, 0, 0, 0],\n",
       "       [1, 0, 1, 0, 1, 0, 1, 0],\n",
       "       [0, 0, 0, 0, 0, 0, 0, 0]])"
      ]
     },
     "execution_count": 91,
     "metadata": {},
     "output_type": "execute_result"
    }
   ],
   "source": [
    "#question 2.2\n",
    "rows = 8\n",
    "def oddcheckerboard(array):\n",
    "    for number in range(rows): #for each row with indexes from 0-7, 8 total rows ...\n",
    "        lengthindex = range(len(array[number])) #length index is the list of numbers given by the length of that row (in this case it'll be indexes 0-7)\n",
    "        if number%2 == 0: #if the row number is odd (index is even), then ...\n",
    "            for index in lengthindex: #for each number within the selected row, ... \n",
    "                if index%2 == 0: #if the index of the length is even (number is odd) then ...\n",
    "                    array[number, index] = 1  #replaces that index in that row in the array with 1\n",
    "    return array                 \n",
    "oddcheckerboard(zerolist)"
   ]
  },
  {
   "cell_type": "code",
   "execution_count": 95,
   "id": "fe0846e5-5025-4a44-b612-7e8366071182",
   "metadata": {},
   "outputs": [
    {
     "data": {
      "text/plain": [
       "array([[1, 0, 1, 0, 1, 0, 1, 0],\n",
       "       [0, 1, 0, 1, 0, 1, 0, 1],\n",
       "       [1, 0, 1, 0, 1, 0, 1, 0],\n",
       "       [0, 1, 0, 1, 0, 1, 0, 1],\n",
       "       [1, 0, 1, 0, 1, 0, 1, 0],\n",
       "       [0, 1, 0, 1, 0, 1, 0, 1],\n",
       "       [1, 0, 1, 0, 1, 0, 1, 0],\n",
       "       [0, 1, 0, 1, 0, 1, 0, 1]])"
      ]
     },
     "execution_count": 95,
     "metadata": {},
     "output_type": "execute_result"
    }
   ],
   "source": [
    "#question 2.3\n",
    "def evencheckerboard(array):\n",
    "    for number in range(rows): #for each row with indexes from 0-7, 8 total rows ...\n",
    "        lengthindex = range(len(array[number])) #length index is the list of numbers given by the length of that row (in this case it'll be indexes 0-7)\n",
    "        if number%2 != 0: #if the row number is even (index is odd), then ...\n",
    "            for index in lengthindex: #for each number within the selected row, ... \n",
    "                if index%2 != 0: #if the index of the length is odd (number is even) then ...\n",
    "                    array[number, index] = 1  #replaces that index in that row in the array with 1\n",
    "    return array   \n",
    "evencheckerboard(zerolist)"
   ]
  },
  {
   "cell_type": "code",
   "execution_count": 105,
   "id": "1db274ec-b007-4bf6-a265-16ed535212cd",
   "metadata": {},
   "outputs": [
    {
     "data": {
      "text/plain": [
       "array([[0, 1, 0, 1, 0, 1, 0, 1],\n",
       "       [1, 0, 1, 0, 1, 0, 1, 0],\n",
       "       [0, 1, 0, 1, 0, 1, 0, 1],\n",
       "       [1, 0, 1, 0, 1, 0, 1, 0],\n",
       "       [0, 1, 0, 1, 0, 1, 0, 1],\n",
       "       [1, 0, 1, 0, 1, 0, 1, 0],\n",
       "       [0, 1, 0, 1, 0, 1, 0, 1],\n",
       "       [1, 0, 1, 0, 1, 0, 1, 0]])"
      ]
     },
     "execution_count": 105,
     "metadata": {},
     "output_type": "execute_result"
    }
   ],
   "source": [
    "#question 2.4\n",
    "def reversecheckerboard(array):\n",
    "    for number in range(rows): #for each row with indexes from 0-7, 8 total rows ...\n",
    "        lengthindex = range(len(array[number])) #length index is the list of numbers given by the length of that row (in this case it'll be indexes 0-7)\n",
    "        if number%2 == 0: #if the row number is odd (index is even), then ...\n",
    "            for index in lengthindex: #for each number within the selected row, ... \n",
    "                if index%2 != 0: #if the index of the length is odd (number is even) then ...\n",
    "                    array[number, index] = 1  #replaces that index in that row in the array with 1\n",
    "        else:   #if the row number is even (index is odd), then ...\n",
    "            for index in lengthindex: #for each number within the selected row, ... \n",
    "                if index%2 == 0: #if the index of the length is even (number is odd) then ...\n",
    "                    array[number, index] = 1  #replaces that index in that row in the array with 1\n",
    "    return array    \n",
    "reversecheckerboard(zerolist)"
   ]
  },
  {
   "cell_type": "code",
   "execution_count": 215,
   "id": "03102735-be88-41cf-8dd1-cbf121c06f36",
   "metadata": {},
   "outputs": [
    {
     "ename": "IndexError",
     "evalue": "index 2 is out of bounds for axis 0 with size 1",
     "output_type": "error",
     "traceback": [
      "\u001b[0;31m---------------------------------------------------------------------------\u001b[0m",
      "\u001b[0;31mIndexError\u001b[0m                                Traceback (most recent call last)",
      "Cell \u001b[0;32mIn[215], line 9\u001b[0m\n\u001b[1;32m      7\u001b[0m         \u001b[38;5;28;01mfor\u001b[39;00m number \u001b[38;5;129;01min\u001b[39;00m counter:  \u001b[38;5;66;03m#iterates through each letter in the word\u001b[39;00m\n\u001b[1;32m      8\u001b[0m             np\u001b[38;5;241m.\u001b[39minsert(word, number, space)\n\u001b[0;32m----> 9\u001b[0m expansion(universe)\n",
      "Cell \u001b[0;32mIn[215], line 8\u001b[0m, in \u001b[0;36mexpansion\u001b[0;34m(array)\u001b[0m\n\u001b[1;32m      6\u001b[0m counter \u001b[38;5;241m=\u001b[39m \u001b[38;5;28mrange\u001b[39m(\u001b[38;5;28mlen\u001b[39m(word))\n\u001b[1;32m      7\u001b[0m \u001b[38;5;28;01mfor\u001b[39;00m number \u001b[38;5;129;01min\u001b[39;00m counter:  \u001b[38;5;66;03m#iterates through each letter in the word\u001b[39;00m\n\u001b[0;32m----> 8\u001b[0m     np\u001b[38;5;241m.\u001b[39minsert(word, number, space)\n",
      "File \u001b[0;32m/opt/anaconda3/lib/python3.12/site-packages/numpy/lib/function_base.py:5506\u001b[0m, in \u001b[0;36minsert\u001b[0;34m(arr, obj, values, axis)\u001b[0m\n\u001b[1;32m   5504\u001b[0m index \u001b[38;5;241m=\u001b[39m indices\u001b[38;5;241m.\u001b[39mitem()\n\u001b[1;32m   5505\u001b[0m \u001b[38;5;28;01mif\u001b[39;00m index \u001b[38;5;241m<\u001b[39m \u001b[38;5;241m-\u001b[39mN \u001b[38;5;129;01mor\u001b[39;00m index \u001b[38;5;241m>\u001b[39m N:\n\u001b[0;32m-> 5506\u001b[0m     \u001b[38;5;28;01mraise\u001b[39;00m \u001b[38;5;167;01mIndexError\u001b[39;00m(\u001b[38;5;124mf\u001b[39m\u001b[38;5;124m\"\u001b[39m\u001b[38;5;124mindex \u001b[39m\u001b[38;5;132;01m{\u001b[39;00mobj\u001b[38;5;132;01m}\u001b[39;00m\u001b[38;5;124m is out of bounds for axis \u001b[39m\u001b[38;5;132;01m{\u001b[39;00maxis\u001b[38;5;132;01m}\u001b[39;00m\u001b[38;5;124m \u001b[39m\u001b[38;5;124m\"\u001b[39m\n\u001b[1;32m   5507\u001b[0m                      \u001b[38;5;124mf\u001b[39m\u001b[38;5;124m\"\u001b[39m\u001b[38;5;124mwith size \u001b[39m\u001b[38;5;132;01m{\u001b[39;00mN\u001b[38;5;132;01m}\u001b[39;00m\u001b[38;5;124m\"\u001b[39m)\n\u001b[1;32m   5508\u001b[0m \u001b[38;5;28;01mif\u001b[39;00m (index \u001b[38;5;241m<\u001b[39m \u001b[38;5;241m0\u001b[39m):\n\u001b[1;32m   5509\u001b[0m     index \u001b[38;5;241m+\u001b[39m\u001b[38;5;241m=\u001b[39m N\n",
      "\u001b[0;31mIndexError\u001b[0m: index 2 is out of bounds for axis 0 with size 1"
     ]
    }
   ],
   "source": [
    "#question 3\n",
    "universe = np.array(['galaxy', 'clusters'])\n",
    "space = \" \"\n",
    "def expansion(array):\n",
    "    for word in array:  #for each word in the array\n",
    "        counter = range(len(word))\n",
    "        for number in counter:  #iterates through each letter in the word\n",
    "            np.insert(word, number, space)\n",
    "expansion(universe)"
   ]
  },
  {
   "cell_type": "code",
   "execution_count": 195,
   "id": "633c97f1-51dc-4938-9059-526d61ba7df0",
   "metadata": {},
   "outputs": [
    {
     "data": {
      "text/plain": [
       "array([[202, 535, 960, 370, 206],\n",
       "       [171, 800, 120, 714, 221],\n",
       "       [566, 314, 430, 558, 187],\n",
       "       [472, 199, 971, 763, 230],\n",
       "       [761, 408, 869, 443, 591]])"
      ]
     },
     "execution_count": 195,
     "metadata": {},
     "output_type": "execute_result"
    }
   ],
   "source": [
    "#question 4\n",
    "np.random.seed(42)\n",
    "planets = np.random.randint(100, 1000, (5, 5))\n",
    "def secondlargest(array):\n",
    "    for \n",
    "        np.unique(array)[-2]\n",
    "secondlargest(planets)\n",
    "planets"
   ]
  },
  {
   "cell_type": "code",
   "execution_count": 147,
   "id": "c8202993-ba59-49e7-b06d-04501dfaa58e",
   "metadata": {},
   "outputs": [
    {
     "data": {
      "text/plain": [
       "array([1, 4])"
      ]
     },
     "execution_count": 147,
     "metadata": {},
     "output_type": "execute_result"
    }
   ],
   "source": [
    "new = np.array([[1,2,3], [4,5,6]])\n",
    "new[:,0]"
   ]
  },
  {
   "cell_type": "code",
   "execution_count": 155,
   "id": "f0b414d4-4bcc-480a-84ed-10019b86ad9b",
   "metadata": {},
   "outputs": [
    {
     "data": {
      "text/plain": [
       "112"
      ]
     },
     "execution_count": 155,
     "metadata": {},
     "output_type": "execute_result"
    }
   ],
   "source": [
    "k = np.array([[ 35,  48,  63],\n",
    "           [ 60,  77,  96],\n",
    "           [ 91, 112, 135]])\n",
    "i = np.unique(k)[-2]\n",
    "i"
   ]
  },
  {
   "cell_type": "code",
   "execution_count": null,
   "id": "ff330208-8162-4031-8c82-f130318cc197",
   "metadata": {},
   "outputs": [],
   "source": []
  }
 ],
 "metadata": {
  "kernelspec": {
   "display_name": "Python 3 (ipykernel)",
   "language": "python",
   "name": "python3"
  },
  "language_info": {
   "codemirror_mode": {
    "name": "ipython",
    "version": 3
   },
   "file_extension": ".py",
   "mimetype": "text/x-python",
   "name": "python",
   "nbconvert_exporter": "python",
   "pygments_lexer": "ipython3",
   "version": "3.12.4"
  }
 },
 "nbformat": 4,
 "nbformat_minor": 5
}
